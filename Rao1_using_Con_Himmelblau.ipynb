{
  "nbformat": 4,
  "nbformat_minor": 0,
  "metadata": {
    "kernelspec": {
      "display_name": "Python 3",
      "language": "python",
      "name": "python3"
    },
    "language_info": {
      "codemirror_mode": {
        "name": "ipython",
        "version": 3
      },
      "file_extension": ".py",
      "mimetype": "text/x-python",
      "name": "python",
      "nbconvert_exporter": "python",
      "pygments_lexer": "ipython3",
      "version": "3.6.5"
    },
    "colab": {
      "name": "Rao1_using_Con_Himmelblau.ipynb",
      "provenance": [],
      "collapsed_sections": []
    }
  },
  "cells": [
    {
      "cell_type": "markdown",
      "metadata": {
        "id": "DlaOYVbpKBJP",
        "colab_type": "text"
      },
      "source": [
        "Import the required libraries."
      ]
    },
    {
      "cell_type": "code",
      "metadata": {
        "id": "ExSF8gh4IEzv",
        "colab_type": "code",
        "colab": {}
      },
      "source": [
        "import math\n",
        "import numpy as np\n",
        "import random\n",
        "import pandas as pd"
      ],
      "execution_count": 0,
      "outputs": []
    },
    {
      "cell_type": "markdown",
      "metadata": {
        "id": "4jncSigoKFol",
        "colab_type": "text"
      },
      "source": [
        "**Define the objective function**:\n",
        "   \n",
        "   Himmelblau function: It is a continuous and non-convex multi-modal function.\n",
        "\n",
        "Min. f(x,y) = (x2 + y -11) 2 + (x +y2 -7)2\n",
        "\n",
        "Subjected to the constraints of:\n",
        "\n",
        "26 - (x-5)2 - y2 ≥ 0\n",
        "\n",
        "20 - 4x - y ≥ 0\n",
        "\n",
        "x ε [-5, 5]; y ε [-5, 5]"
      ]
    },
    {
      "cell_type": "code",
      "metadata": {
        "id": "aIRw9_U8IEz9",
        "colab_type": "code",
        "colab": {}
      },
      "source": [
        "def myobj(p1):\n",
        "    F=[]\n",
        "    for i in range (len(p1)):\n",
        "        x=p1.loc[i]\n",
        "        f=(((x[0]**2)+x[1]-11)**2)+((x[0]+x[1]**2)-7)**2\n",
        "        F.append(f)\n",
        "    return F"
      ],
      "execution_count": 0,
      "outputs": []
    },
    {
      "cell_type": "markdown",
      "metadata": {
        "id": "4YM7K3qbKw8h",
        "colab_type": "text"
      },
      "source": [
        "**Search space and termination criteria**\n"
      ]
    },
    {
      "cell_type": "code",
      "metadata": {
        "id": "ukm-UMtLIE0I",
        "colab_type": "code",
        "colab": {}
      },
      "source": [
        "pop_size = 25\n",
        "Gen = 1000\n",
        "lb=[-5,-5]\n",
        "ub=[5,5]"
      ],
      "execution_count": 0,
      "outputs": []
    },
    {
      "cell_type": "markdown",
      "metadata": {
        "id": "XABPcN5oLAO8",
        "colab_type": "text"
      },
      "source": [
        "**Initial population**\n",
        "\n",
        "That is, generating random solutions, within the given range of variables. These random solutions serve as the starting point for our algorithm."
      ]
    },
    {
      "cell_type": "code",
      "metadata": {
        "id": "FaSNslP-IE0P",
        "colab_type": "code",
        "colab": {}
      },
      "source": [
        "def initialpopulation(mini,maxi,pop_size):\n",
        "    pop=[]        \n",
        "    for i in range(pop_size):\n",
        "        p=[]        \n",
        "        for a,b in zip(mini,maxi):\n",
        "            p.append(a + (b-a) * random.random())\n",
        "        pop.append(p)    \n",
        "    ini_pop=pd.DataFrame(pop)        \n",
        "    return ini_pop"
      ],
      "execution_count": 0,
      "outputs": []
    },
    {
      "cell_type": "markdown",
      "metadata": {
        "id": "7sBVOQt2LEJQ",
        "colab_type": "text"
      },
      "source": [
        "**Update population**\n",
        "\n",
        "In every iteration, the solutions are updated based on the strategy."
      ]
    },
    {
      "cell_type": "code",
      "metadata": {
        "id": "0S2qAtUNIE0a",
        "colab_type": "code",
        "colab": {}
      },
      "source": [
        "def updatepopulation(p1,dim):      \n",
        "    best_x=np.array(p1.loc[p1['f'].idxmin][0:dim])    \n",
        "    worst_x=np.array(p1.loc[p1['f'].idxmax][0:dim])\n",
        "    new_x=[]\n",
        "    for i in range(len(p1)):\n",
        "        old_x=np.array(p1.loc[i][0:dim])           \n",
        "        r1=np.random.random(dim)\n",
        "        #r2=np.random.random(dim)\n",
        "        #new_x.append(old_x+r1*(best_x-abs(old_x))-r2*(worst_x-abs(old_x)))\n",
        "        new_x.append(old_x+r1*(best_x-worst_x))    \n",
        "    new_p1=pd.DataFrame(new_x)    \n",
        "    return new_p1"
      ],
      "execution_count": 0,
      "outputs": []
    },
    {
      "cell_type": "markdown",
      "metadata": {
        "id": "JTzyReLdLiQ2",
        "colab_type": "text"
      },
      "source": [
        "**Greedy selection**\n",
        "\n",
        "Inherently, in every generation the algorithm keeps only the good solution and completely discards the poor or inferior solution"
      ]
    },
    {
      "cell_type": "code",
      "metadata": {
        "id": "zw8YnhiRIE0g",
        "colab_type": "code",
        "colab": {}
      },
      "source": [
        "def greedyselector(p1,new_p1):    \n",
        "    for i in range(len(p1)):        \n",
        "        if p1.loc[i]['f']>new_p1.loc[i]['f']:                 \n",
        "            p1.loc[i]=new_p1.loc[i]    \n",
        "    return p1"
      ],
      "execution_count": 0,
      "outputs": []
    },
    {
      "cell_type": "markdown",
      "metadata": {
        "id": "3_qx0c7OMamb",
        "colab_type": "text"
      },
      "source": [
        "**Trimming**\n",
        "\n",
        "It is imperative that the combination of variables suggested by the algorithm algorithm must lie within the prescribed bounds. This can be achieved by a number of different approaches. One approach is to trim the variables to their respective bounds."
      ]
    },
    {
      "cell_type": "code",
      "metadata": {
        "id": "E7f5JnPgIE0o",
        "colab_type": "code",
        "colab": {}
      },
      "source": [
        "def trimr(new_p1,lb,ub):    \n",
        "    col=new_p1.columns.values    \n",
        "    for i in range(len(new_p1)):        \n",
        "        for j in range(len(col)):            \n",
        "            if new_p1.loc[i][j]>ub[j]:                \n",
        "                  new_p1.loc[i][j]=ub[j]            \n",
        "            elif new_p1.loc[i][j]<lb[j]:                          \n",
        "                  new_p1.loc[i][j]=lb[j]    \n",
        "    return new_p1"
      ],
      "execution_count": 0,
      "outputs": []
    },
    {
      "cell_type": "markdown",
      "metadata": {
        "id": "dsIGz2vEMooK",
        "colab_type": "text"
      },
      "source": [
        "**Looping**\n",
        "\n",
        "All the above mentioned functions have to be executed in a loop, in order to perform iterations."
      ]
    },
    {
      "cell_type": "code",
      "metadata": {
        "id": "VbHyw9MgIE0s",
        "colab_type": "code",
        "colab": {}
      },
      "source": [
        "def Rao1(*argv):\n",
        "    pop_size, Gen, mini, maxi= argv\n",
        "    lb=np.array(mini)\n",
        "    ub=np.array(maxi)\n",
        "    p1=initialpopulation(lb,ub,pop_size)\n",
        "    p1['f']=myobj(p1)\n",
        "    \n",
        "    dim=len(lb)\n",
        "    gen=0\n",
        "    best=[]\n",
        "    while (gen<Gen):\n",
        "        new_p1=updatepopulation(p1,dim)\n",
        "        new_p1=trimr(new_p1,lb,ub)\n",
        "        new_p1['f']=myobj(new_p1)\n",
        "        p1=greedyselector(p1,new_p1)\n",
        "        gen=gen+1\n",
        "        #print(gen)\n",
        "        best=p1['f'].min()\n",
        "        xbest=p1.loc[p1['f'].idxmin()][0:dim].tolist() \n",
        "      #  print('Best={}'.format(best))\n",
        "       # print('xbest={}'.format(xbest))\n",
        "    return best,xbest"
      ],
      "execution_count": 0,
      "outputs": []
    },
    {
      "cell_type": "markdown",
      "metadata": {
        "id": "GkURDeagMwCi",
        "colab_type": "text"
      },
      "source": [
        "**Executing the code**\n",
        "\n",
        "Import all the above mentioned functions. And then the algorithm can be executed as follows:"
      ]
    },
    {
      "cell_type": "code",
      "metadata": {
        "id": "Tbqb2Fj2IE0y",
        "colab_type": "code",
        "colab": {}
      },
      "source": [
        "best,xbest = Rao1(pop_size, Gen, lb, ub)\n",
        "print('The objective function value = {}'.format(best))\n",
        "print('The optimum values of variables = {}'.format(xbest))"
      ],
      "execution_count": 0,
      "outputs": []
    },
    {
      "cell_type": "code",
      "metadata": {
        "id": "pHQ3VjFEIE06",
        "colab_type": "code",
        "colab": {}
      },
      "source": [
        ""
      ],
      "execution_count": 0,
      "outputs": []
    }
  ]
}